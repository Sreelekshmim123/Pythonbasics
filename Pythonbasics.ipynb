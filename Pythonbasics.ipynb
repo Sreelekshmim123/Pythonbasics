{
  "nbformat": 4,
  "nbformat_minor": 0,
  "metadata": {
    "colab": {
      "provenance": []
    },
    "kernelspec": {
      "name": "python3",
      "display_name": "Python 3"
    },
    "language_info": {
      "name": "python"
    }
  },
  "cells": [
    {
      "cell_type": "markdown",
      "source": [
        "Write a Python program which accepts the radius of a circle from the user\n",
        "and compute the area.\n",
        "Sample input: Enter the radius: 3\n",
        "Sample output: Area of Circle is 28.59999999999"
      ],
      "metadata": {
        "id": "PDtF4swCQknG"
      }
    },
    {
      "cell_type": "code",
      "execution_count": null,
      "metadata": {
        "colab": {
          "base_uri": "https://localhost:8080/"
        },
        "id": "9PCxbWdeP82I",
        "outputId": "75f89526-b95a-47d2-ee5c-05071fe6b735"
      },
      "outputs": [
        {
          "output_type": "stream",
          "name": "stdout",
          "text": [
            "Enter the radius of circle3\n",
            "28.285714285714285\n"
          ]
        }
      ],
      "source": [
        "r=int(input(\"Enter the radius of circle\"))\n",
        "area=(22/7)*r*r\n",
        "print(area)"
      ]
    },
    {
      "cell_type": "markdown",
      "source": [
        "Write a Python Program to accept the details of a student like name, roll\n",
        "number and mark and display it.\n",
        "Sample input: Enter the name: Anisha\n",
        "Enter the roll number: 21\n",
        "Enter the mark: 78\n",
        "Sample output: Name: Anisha\n",
        "Roll No: 21\n",
        "Mark: 78"
      ],
      "metadata": {
        "id": "bfJwKkN7QirA"
      }
    },
    {
      "cell_type": "code",
      "source": [
        "name=input(\"Enter the name\")\n",
        "roll_no=int(input(\"enter the roll number\"))\n",
        "mark=int(input(\"Enter the mark\"))\n",
        "print(\"Name:\",name,\" Roll No\",roll_no,\" Mark:\",mark)\n"
      ],
      "metadata": {
        "colab": {
          "base_uri": "https://localhost:8080/"
        },
        "id": "e5yrTeCjSnmU",
        "outputId": "a6dc2546-7595-4d07-f447-c5901efad699"
      },
      "execution_count": null,
      "outputs": [
        {
          "output_type": "stream",
          "name": "stdout",
          "text": [
            "Enter the nameAnisha\n",
            "enter the roll number21\n",
            "Enter the mark78\n",
            "Name: Anisha  Roll No 21  Mark: 78\n"
          ]
        }
      ]
    },
    {
      "cell_type": "markdown",
      "source": [
        "Write a Python program to get the largest number from a list.\n",
        "Sample input: 12, 3, 47, 10\n",
        "Sample output: 47 is the largest number."
      ],
      "metadata": {
        "id": "MYmCpeFaU0OG"
      }
    },
    {
      "cell_type": "code",
      "source": [
        "number=[12,3,47,10]\n",
        "largest=max(number)\n",
        "print(largest,\"is the largest number\")"
      ],
      "metadata": {
        "colab": {
          "base_uri": "https://localhost:8080/"
        },
        "id": "KyBJw3X_U82F",
        "outputId": "481fc2c1-bcdb-44d1-e47d-9838c8adfd47"
      },
      "execution_count": null,
      "outputs": [
        {
          "output_type": "stream",
          "name": "stdout",
          "text": [
            "47 is the largest number\n"
          ]
        }
      ]
    },
    {
      "cell_type": "markdown",
      "source": [
        "Given a range of first 10 numbers, write a Python program to iterate from\n",
        "start number to the end number and print the sum of the current number\n",
        "and previous number.\n",
        "Sample input: 1….10\n",
        "Sample output: Current Number 1 Previous Number 0 Sum: 1 Current\n",
        "Number 2 Previous Number 1 Sum: 3 Current Number 3 Previous\n",
        "Number 2 Sum: 5… Current Number 10 Previous Number 9 Sum: 19"
      ],
      "metadata": {
        "id": "ObWyhX6SWIXo"
      }
    },
    {
      "cell_type": "code",
      "source": [
        "previous_number = 0\n",
        "for current_number in range(1, 11):\n",
        "  current_sum = current_number + previous_number\n",
        "  print(\"Current Number:\", current_number, \" Previous Number: \",previous_number, \"Sum:\", current_sum)\n",
        "  previous_number = current_number\n"
      ],
      "metadata": {
        "colab": {
          "base_uri": "https://localhost:8080/"
        },
        "id": "qMJbOSS8VyS-",
        "outputId": "bcf71221-8563-4ee3-c64a-9c17fa6e36e9"
      },
      "execution_count": null,
      "outputs": [
        {
          "output_type": "stream",
          "name": "stdout",
          "text": [
            "Current Number: 1  Previous Number:  0 Sum: 1\n",
            "Current Number: 2  Previous Number:  1 Sum: 3\n",
            "Current Number: 3  Previous Number:  2 Sum: 5\n",
            "Current Number: 4  Previous Number:  3 Sum: 7\n",
            "Current Number: 5  Previous Number:  4 Sum: 9\n",
            "Current Number: 6  Previous Number:  5 Sum: 11\n",
            "Current Number: 7  Previous Number:  6 Sum: 13\n",
            "Current Number: 8  Previous Number:  7 Sum: 15\n",
            "Current Number: 9  Previous Number:  8 Sum: 17\n",
            "Current Number: 10  Previous Number:  9 Sum: 19\n"
          ]
        }
      ]
    },
    {
      "cell_type": "markdown",
      "source": [
        "Write a Python program to print only those numbers which are divisible\n",
        "of 5.\n",
        "Sample input: 10, 20,33,46,55 Sample output: 10, 20, 55"
      ],
      "metadata": {
        "id": "UcS7RknaYdbc"
      }
    },
    {
      "cell_type": "code",
      "source": [
        "number=[10,20,33,46,55]\n",
        "for i in number:\n",
        "  if(i%5==0):\n",
        "    print(i)\n"
      ],
      "metadata": {
        "colab": {
          "base_uri": "https://localhost:8080/"
        },
        "id": "z09-mTasYjY6",
        "outputId": "66aada5b-793f-4363-f1c5-6a13a97f340b"
      },
      "execution_count": null,
      "outputs": [
        {
          "output_type": "stream",
          "name": "stdout",
          "text": [
            "10\n",
            "20\n",
            "55\n"
          ]
        }
      ]
    },
    {
      "cell_type": "markdown",
      "source": [
        "Write a Python program to check whether a number is prime or not.\n",
        "Sample input: Enter the number: 3\n",
        "Sample output: 3 is a prime number.\n"
      ],
      "metadata": {
        "id": "AQ261IyJZIrJ"
      }
    },
    {
      "cell_type": "code",
      "source": [
        "number=int(input(\"Enter the number\"))\n",
        "if(number>1):\n",
        "  for i in range(2,number):\n",
        "    if(number%i==0):\n",
        "      print(number,\"is not prime number\")\n",
        "      break\n",
        "  else:\n",
        "    print(number,\"is prime number\")\n",
        "else:\n",
        "  print(number,\"is prime number\")\n"
      ],
      "metadata": {
        "colab": {
          "base_uri": "https://localhost:8080/"
        },
        "id": "aKPcZGq8ZHKI",
        "outputId": "289b3f65-4405-43d9-e365-33d307eee0ea"
      },
      "execution_count": null,
      "outputs": [
        {
          "output_type": "stream",
          "name": "stdout",
          "text": [
            "Enter the number3\n",
            "3 is prime number\n"
          ]
        }
      ]
    },
    {
      "cell_type": "markdown",
      "source": [
        "Write a Python program to reverse a list using for loop.\n",
        "Sample input: 10,40,30,70\n",
        "Sample output: 70,30,40,10\n"
      ],
      "metadata": {
        "id": "a4n1V7vAbHIK"
      }
    },
    {
      "cell_type": "code",
      "source": [
        "number=[10,40,30,70]\n",
        "revesed_number=[]\n",
        "for i in range(len(number)-1,-1,-1):\n",
        "  revesed_number.append(number[i])\n",
        "print(revesed_number)\n"
      ],
      "metadata": {
        "colab": {
          "base_uri": "https://localhost:8080/"
        },
        "id": "zero2ywfbOIB",
        "outputId": "f9a988f8-f289-4fcd-8538-c03aeab11a20"
      },
      "execution_count": null,
      "outputs": [
        {
          "output_type": "stream",
          "name": "stdout",
          "text": [
            "[70, 30, 40, 10]\n"
          ]
        }
      ]
    },
    {
      "cell_type": "markdown",
      "source": [
        "Write a Python program to print the following pattern.\n",
        "*\n",
        "**\n",
        "***\n",
        "****\n",
        "\n",
        "---\n",
        "\n",
        "\n",
        "\n",
        "1.   List item\n",
        "2.   List item\n",
        "\n"
      ],
      "metadata": {
        "id": "iYR4vF2cebvW"
      }
    },
    {
      "cell_type": "code",
      "source": [
        "for i in range(0,5):\n",
        "  for j in range(0,i):\n",
        "    print('*',end='')\n",
        "  print()"
      ],
      "metadata": {
        "colab": {
          "base_uri": "https://localhost:8080/"
        },
        "id": "0W69ak8Jeqzq",
        "outputId": "360235f9-9358-4fa9-e0a1-e2657ce115b5"
      },
      "execution_count": null,
      "outputs": [
        {
          "output_type": "stream",
          "name": "stdout",
          "text": [
            "\n",
            "*\n",
            "**\n",
            "***\n",
            "****\n"
          ]
        }
      ]
    },
    {
      "cell_type": "markdown",
      "source": [
        "Write a Python program to find the maximum of three numbers\n",
        "Sample input: 34,12,7\n",
        "Sample output: 34\n"
      ],
      "metadata": {
        "id": "zwv4GVERfliv"
      }
    },
    {
      "cell_type": "code",
      "source": [
        "a=int(input(\"enter the first number\"))\n",
        "b=int(input(\"Enter the second number\"))\n",
        "c=int(input(\"Enter the third number\"))\n",
        "if a>b and a>c:\n",
        "  print( a)\n",
        "elif b>a and b>c:\n",
        "  print(b)\n",
        "else:\n",
        "  print(c)"
      ],
      "metadata": {
        "colab": {
          "base_uri": "https://localhost:8080/"
        },
        "id": "hLCII42mfqJM",
        "outputId": "a6d7f4f1-39b1-4387-b4ce-927ef0f93f78"
      },
      "execution_count": null,
      "outputs": [
        {
          "output_type": "stream",
          "name": "stdout",
          "text": [
            "enter the first number34\n",
            "Enter the second number12\n",
            "Enter the third number7\n",
            "34\n"
          ]
        }
      ]
    },
    {
      "cell_type": "markdown",
      "source": [
        "Write a Python program to construct the following pattern, using a\n",
        "nested for loop.\n",
        "*\n",
        "**\n",
        "***\n",
        "****\n",
        "*****\n",
        "****\n",
        "***\n",
        "**\n",
        "*"
      ],
      "metadata": {
        "id": "L5NW8ueahlZp"
      }
    },
    {
      "cell_type": "code",
      "source": [
        "rows=5\n",
        "for i in range(1, rows + 1):\n",
        "        for j in range(1, i + 1):\n",
        "            print('*', end='')\n",
        "        print()\n",
        "for i in range(rows - 1, 0, -1):\n",
        "  for j in range(1, i + 1):\n",
        "    print('*', end='')\n",
        "  print()"
      ],
      "metadata": {
        "colab": {
          "base_uri": "https://localhost:8080/"
        },
        "id": "zbiYLk5JheXQ",
        "outputId": "0e5530f2-da60-45d8-de34-7bd902e24bdf"
      },
      "execution_count": null,
      "outputs": [
        {
          "output_type": "stream",
          "name": "stdout",
          "text": [
            "*\n",
            "**\n",
            "***\n",
            "****\n",
            "*****\n",
            "****\n",
            "***\n",
            "**\n",
            "*\n"
          ]
        }
      ]
    },
    {
      "cell_type": "markdown",
      "source": [
        "**PRACTICE EXERCISES ON PYTHON BASICS -2**"
      ],
      "metadata": {
        "id": "xkZKiD2xD4hw"
      }
    },
    {
      "cell_type": "markdown",
      "source": [
        "Write a Python program to accept a string value from the user and display\n",
        "the count of each character in that string. Sample input: Enter a string\n",
        "value: assembly Sample output: a=1, s=2, e=1, m=1, b=1, l=1, y=1"
      ],
      "metadata": {
        "id": "Zw3anvobECwa"
      }
    },
    {
      "cell_type": "code",
      "source": [
        "str1=input(\"Enter the string value\")\n",
        "count={}\n",
        "for i in str1:\n",
        "  if i in count:\n",
        "    count[i]+=1\n",
        "  else:\n",
        "    count[i]=1\n",
        "for char, count in count.items():\n",
        "        print(char,\"=\",count , end=\", \")\n"
      ],
      "metadata": {
        "colab": {
          "base_uri": "https://localhost:8080/"
        },
        "id": "Nd5nwZTLEHfe",
        "outputId": "5871ec26-4070-4c23-bb2c-f42e1e121283"
      },
      "execution_count": null,
      "outputs": [
        {
          "output_type": "stream",
          "name": "stdout",
          "text": [
            "Enter the string valueassembly\n",
            "a = 1, s = 2, e = 1, m = 1, b = 1, l = 1, y = 1, "
          ]
        }
      ]
    },
    {
      "cell_type": "markdown",
      "source": [
        "Write a Python function to find the maximum of three numbers Sample\n",
        "input: 34,12,7 Sample output: 34"
      ],
      "metadata": {
        "id": "TZ7qoExhJxTo"
      }
    },
    {
      "cell_type": "code",
      "source": [
        "def maximum(a,b,c):\n",
        "  if a>b and a>c:\n",
        "    print(a)\n",
        "  elif b>a and b>c:\n",
        "    print(b)\n",
        "  else:\n",
        "    print(c)\n",
        "a=int(input(\"Enter the first number \"))\n",
        "b=int(input(\"Enter the second number \"))\n",
        "c=int(input(\"Enter the third number \"))\n",
        "maximum(a,b,c)"
      ],
      "metadata": {
        "colab": {
          "base_uri": "https://localhost:8080/"
        },
        "id": "sFMzv3xpJ3Z8",
        "outputId": "d4780612-3779-4236-c7df-009c983870f9"
      },
      "execution_count": null,
      "outputs": [
        {
          "output_type": "stream",
          "name": "stdout",
          "text": [
            "Enter the first number 34\n",
            "Enter the second number 12\n",
            "Enter the third number 7\n",
            "34\n"
          ]
        }
      ]
    },
    {
      "cell_type": "markdown",
      "source": [
        "Write a Python function called exponent(base,exp) that returns an\n",
        "integer value of base raises to the power of exp. Sample input: Enter the\n",
        "base: 2 Enter the exponent: 3 Sample output: 8"
      ],
      "metadata": {
        "id": "421WCoqqKs9L"
      }
    },
    {
      "cell_type": "code",
      "source": [
        "def exponent(base,exp):\n",
        "  result=base**exp\n",
        "  return result\n",
        "base=int(input(\"Enter the base:\"))\n",
        "exp=int(input(\"enter the exponent\"))\n",
        "result = exponent(base, exp)\n",
        "print(result)"
      ],
      "metadata": {
        "colab": {
          "base_uri": "https://localhost:8080/"
        },
        "id": "ogVtlfNHLCLa",
        "outputId": "3472d742-91a2-4289-e61d-cebc75fe0334"
      },
      "execution_count": null,
      "outputs": [
        {
          "output_type": "stream",
          "name": "stdout",
          "text": [
            "Enter the base:2\n",
            "enter the exponent3\n",
            "8\n"
          ]
        }
      ]
    },
    {
      "cell_type": "markdown",
      "source": [
        "Write a Python function that takes a positive integer and returns the sum\n",
        "of the cube of all the positive integers smaller than the specified number.\n",
        "Sample input: 4 Sample output: 36."
      ],
      "metadata": {
        "id": "ErIGghcXOZUk"
      }
    },
    {
      "cell_type": "code",
      "source": [
        "def sum(n):\n",
        "  sum=0\n",
        "  for i in range(1,n):\n",
        "    sum+=i**3\n",
        "  return sum\n",
        "print(\"sample input:\",4)\n",
        "print(\"sample output :\",sum(4))\n"
      ],
      "metadata": {
        "colab": {
          "base_uri": "https://localhost:8080/"
        },
        "id": "rPpywY9qdJM7",
        "outputId": "48e518d9-03d4-4921-d646-78cb61ffd666"
      },
      "execution_count": 3,
      "outputs": [
        {
          "output_type": "stream",
          "name": "stdout",
          "text": [
            "sample input: 4\n",
            "sample output : 36\n"
          ]
        }
      ]
    },
    {
      "cell_type": "markdown",
      "source": [
        "Write a Python program which iterates from 1 to 10. For multiples of 2,\n",
        "print “Fizz” instead of the number and for the multiples of 5, print “Buzz”.\n",
        "For numbers which are multiples of both 2 and 5, print “FizzBuzz”.\n",
        "Sample input: numbers from 1 to 10 Sample output: 1 Fizz 3 Fizz Buzz\n",
        "Fizz 7 Fizz 9 FizzBuzz"
      ],
      "metadata": {
        "id": "Xp1g9YgweR4W"
      }
    },
    {
      "cell_type": "code",
      "source": [
        "def fizzbuzz(n):\n",
        "  for i in range(1,n+1):\n",
        "    if(i%2==0):\n",
        "      print(\"Fizz\",end=\" \")\n",
        "    elif(i%5==0):\n",
        "      print(\"Buzz\",end=\" \")\n",
        "    elif(i%2==0 and i%5==0):\n",
        "      print(\"Fizz Buzz\",end=\" \")\n",
        "    else:\n",
        "      print(i,end=\" \")\n",
        "fizzbuzz(10)"
      ],
      "metadata": {
        "colab": {
          "base_uri": "https://localhost:8080/"
        },
        "id": "XP7vNQXseatL",
        "outputId": "f273c395-0b3c-47ef-9ff6-0a807e5e0af3"
      },
      "execution_count": 7,
      "outputs": [
        {
          "output_type": "stream",
          "name": "stdout",
          "text": [
            "1 Fizz 3 Fizz Buzz Fizz 7 Fizz 9 Fizz "
          ]
        }
      ]
    },
    {
      "cell_type": "markdown",
      "source": [
        "Write a Python program to find the most frequent item in a list of\n",
        "numbers. Sample input: 2, 3, 4, 2, 5, 2 Sample output: 2"
      ],
      "metadata": {
        "id": "_QXBA9LxgbuL"
      }
    },
    {
      "cell_type": "code",
      "source": [
        "def mostfrequent(n):\n",
        "  count={}\n",
        "  for num in n:\n",
        "    if num in count:\n",
        "      count[num] += 1\n",
        "    else:\n",
        "      count[num] = 1\n",
        "  max=0\n",
        "  mostfrequent=0\n",
        "  for num, count1 in count.items():\n",
        "    if count1 > max:\n",
        "      max = count1\n",
        "      mostfrequent = num\n",
        "      print(\"Sample output:\",mostfrequent)\n",
        "number=[2,3,4,2,5,2]\n",
        "print(\"sample input :\",number)\n",
        "mostfrequent(number)"
      ],
      "metadata": {
        "colab": {
          "base_uri": "https://localhost:8080/"
        },
        "id": "NAsgoor6gbM9",
        "outputId": "a215c87a-cc77-4909-fb15-329a9e33cfb0"
      },
      "execution_count": 13,
      "outputs": [
        {
          "output_type": "stream",
          "name": "stdout",
          "text": [
            "sample input : [2, 3, 4, 2, 5, 2]\n",
            "Sample output: 2\n"
          ]
        }
      ]
    },
    {
      "cell_type": "markdown",
      "source": [
        "Write a Python program to find the sum of squares of the numbers in a\n",
        "list. Sample input: 2,1,3,1 Sample output: 15"
      ],
      "metadata": {
        "id": "C7pbBcLAi7lG"
      }
    },
    {
      "cell_type": "code",
      "source": [
        "def sumsquares(n):\n",
        "  sum_squares=0\n",
        "  for i in n:\n",
        "    sum_squares+=i**2\n",
        "  print(\"sample output: \",sum_squares)\n",
        "\n",
        "number=[2,1,3,1]\n",
        "sumsquares(number)\n"
      ],
      "metadata": {
        "colab": {
          "base_uri": "https://localhost:8080/"
        },
        "id": "RanyqdVCjAS6",
        "outputId": "fda8ce60-bf38-4eea-fce6-785be8e74ffc"
      },
      "execution_count": 14,
      "outputs": [
        {
          "output_type": "stream",
          "name": "stdout",
          "text": [
            "sample output:  15\n"
          ]
        }
      ]
    },
    {
      "cell_type": "markdown",
      "source": [
        "Write a Python program using for loop that will iterate from 1 to 15. For\n",
        "each iteration, check if the current number is odd or even, and display the\n",
        "message to the screen as odd or even. Sample input: 1….15 Sample\n",
        "output: 1-odd 2-even …. 15-odd"
      ],
      "metadata": {
        "id": "HvKtwQdkkJT3"
      }
    },
    {
      "cell_type": "code",
      "source": [
        "def odd_or_even(n):\n",
        "  for i in range(1,n+1):\n",
        "    if(i%2==0):\n",
        "      print(i,\" even\",end=\" \")\n",
        "    else:\n",
        "      print(i,\" odd\",end=\" \")\n",
        "\n",
        "number=15\n",
        "print(\"sample input :\",number)\n",
        "print(\"sample output :\",end=\" \")\n",
        "odd_or_even(number)"
      ],
      "metadata": {
        "colab": {
          "base_uri": "https://localhost:8080/"
        },
        "id": "c8YnhPvikOjf",
        "outputId": "566de0a5-32da-4b2d-c970-7d8c8abed9f9"
      },
      "execution_count": 19,
      "outputs": [
        {
          "output_type": "stream",
          "name": "stdout",
          "text": [
            "sample input : range(0, 15)\n",
            "sample output : 1  odd 2  even 3  odd 4  even 5  odd 6  even 7  odd 8  even 9  odd 10  even 11  odd 12  even 13  odd 14  even 15  odd "
          ]
        }
      ]
    },
    {
      "cell_type": "markdown",
      "source": [
        "Write a Python program to convert temperatures to and from Celsius\n",
        "Fahrenheit. [Formula: c/5=f-32/9 where c=temperature in Celsius and f=\n",
        "temperature in Fahrenheit.] Sample input: Temperature in Fahrenheit\n",
        "=41 Sample output: Temperature in Celsius =5"
      ],
      "metadata": {
        "id": "IzlgOUB_l2AL"
      }
    },
    {
      "cell_type": "code",
      "source": [
        "def fahren_celsius(f):\n",
        "  c=(5/9)*(f-32)\n",
        "  print(\"Temperature in Celsius =\",int(c))\n",
        "f=41\n",
        "print(\"Temperature in Fahrenheit =\",f)\n",
        "fahren_celsius(f)"
      ],
      "metadata": {
        "colab": {
          "base_uri": "https://localhost:8080/"
        },
        "id": "TqfB5Qg-l8Ll",
        "outputId": "844e0151-7e67-420b-e77d-b3f221cfc233"
      },
      "execution_count": 24,
      "outputs": [
        {
          "output_type": "stream",
          "name": "stdout",
          "text": [
            "Temperature in Fahrenheit = 41\n",
            "Temperature in Celsius = 5\n"
          ]
        }
      ]
    },
    {
      "cell_type": "markdown",
      "source": [
        " Write a Python function to calculate the factorial of a number (a\n",
        "nonnegative integer). The function accepts the number as an argument.\n",
        "Sample input: 3 Sample output: 6"
      ],
      "metadata": {
        "id": "nY6ewGuRnxGK"
      }
    },
    {
      "cell_type": "code",
      "source": [
        "def factroial(n):\n",
        "  if n == 0 or n == 1:\n",
        "    return 1\n",
        "  else:\n",
        "    return n * factroial(n - 1)\n",
        "number=int(input(\"Enter the number\"))\n",
        "print(\"Sample output :\",factroial(number))"
      ],
      "metadata": {
        "colab": {
          "base_uri": "https://localhost:8080/"
        },
        "id": "qX8nlJxSn4Le",
        "outputId": "a467d3e2-b455-4ace-dadc-2d51a8b478f3"
      },
      "execution_count": 25,
      "outputs": [
        {
          "output_type": "stream",
          "name": "stdout",
          "text": [
            "Enter the number3\n",
            "Sample output : 6\n"
          ]
        }
      ]
    }
  ]
}